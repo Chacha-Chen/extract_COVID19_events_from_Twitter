{
 "cells": [
  {
   "cell_type": "code",
   "execution_count": 1,
   "metadata": {
    "collapsed": true
   },
   "outputs": [
    {
     "data": {
      "text/plain": "'/Users/chenchacha/extract_COVID19_events_from_Twitter'"
     },
     "execution_count": 1,
     "metadata": {},
     "output_type": "execute_result"
    }
   ],
   "source": [
    "import pandas as pd\n",
    "import os\n",
    "os.getcwd()"
   ]
  },
  {
   "cell_type": "code",
   "execution_count": 27,
   "outputs": [
    {
     "data": {
      "text/plain": "0.5472146383963782"
     },
     "execution_count": 27,
     "metadata": {},
     "output_type": "execute_result"
    }
   ],
   "source": [
    "df = pd.read_table('results/all_experiments_multitask_bert_entity_classifier_fixed_results.tsv',\n",
    "             )\n",
    "\n",
    "# df.describe()\n",
    "assert (df[df['F1']>0]['F1'].shape[0]==27)\n",
    "df[df['F1']>0]['F1'].mean()"
   ],
   "metadata": {
    "collapsed": false,
    "pycharm": {
     "name": "#%%\n"
    }
   }
  },
  {
   "cell_type": "code",
   "execution_count": 37,
   "outputs": [
    {
     "name": "stdout",
     "output_type": "stream",
     "text": [
      "5823\n",
      "5823\n",
      "5823\n",
      "5823\n",
      "5823\n",
      "5823\n",
      "5823\n",
      "5823\n",
      "5823\n",
      "5823\n",
      "3238\n",
      "3238\n",
      "3238\n",
      "3238\n",
      "3238\n",
      "3238\n",
      "3238\n",
      "3238\n",
      "3238\n",
      "3383\n",
      "3383\n",
      "3383\n",
      "3383\n",
      "3383\n",
      "3546\n",
      "3546\n",
      "3546\n",
      "3546\n",
      "3546\n",
      "3546\n",
      "3090\n",
      "3090\n",
      "3090\n"
     ]
    }
   ],
   "source": [
    "for row in df['Test Data (size, pos., neg.)']:\n",
    "    print(row[1:5])\n",
    "    # a,b,c = row\n",
    "    # print(a)\n",
    "\n",
    "# df['Test Data (size, pos., neg.)'].split()[0]\n",
    "# df['sample_size'] = df[]\n",
    "# event_list = df['Event'].unique()"
   ],
   "metadata": {
    "collapsed": false,
    "pycharm": {
     "name": "#%%\n"
    }
   }
  },
  {
   "cell_type": "code",
   "execution_count": 21,
   "outputs": [
    {
     "name": "stdout",
     "output_type": "stream",
     "text": [
      "10\n",
      "5\n",
      "4\n",
      "5\n",
      "3\n"
     ]
    },
    {
     "name": "stderr",
     "output_type": "stream",
     "text": [
      "<ipython-input-21-d2824da58ab0>:3: UserWarning: Boolean Series key will be reindexed to match DataFrame index.\n",
      "  print(df[df['Event'] ==event][df['F1']>0].shape[0])\n"
     ]
    }
   ],
   "source": [
    "# ind = 0\n",
    "for event in event_list:\n",
    "    print(df[df['Event'] ==event][df['F1']>0].shape[0])\n"
   ],
   "metadata": {
    "collapsed": false,
    "pycharm": {
     "name": "#%%\n"
    }
   }
  },
  {
   "cell_type": "code",
   "execution_count": 16,
   "outputs": [
    {
     "data": {
      "text/plain": "              Event       Sub-task        F1\n10  tested_negative            age  0.000000\n11  tested_negative  close_contact  0.000000\n12  tested_negative    gender_male  0.579439\n13  tested_negative  gender_female  0.600000\n14  tested_negative       how_long  0.000000\n15  tested_negative           name  0.588235\n16  tested_negative       relation  0.571429\n17  tested_negative           when  0.000000\n18  tested_negative          where  0.325581",
      "text/html": "<div>\n<style scoped>\n    .dataframe tbody tr th:only-of-type {\n        vertical-align: middle;\n    }\n\n    .dataframe tbody tr th {\n        vertical-align: top;\n    }\n\n    .dataframe thead th {\n        text-align: right;\n    }\n</style>\n<table border=\"1\" class=\"dataframe\">\n  <thead>\n    <tr style=\"text-align: right;\">\n      <th></th>\n      <th>Event</th>\n      <th>Sub-task</th>\n      <th>F1</th>\n    </tr>\n  </thead>\n  <tbody>\n    <tr>\n      <th>10</th>\n      <td>tested_negative</td>\n      <td>age</td>\n      <td>0.000000</td>\n    </tr>\n    <tr>\n      <th>11</th>\n      <td>tested_negative</td>\n      <td>close_contact</td>\n      <td>0.000000</td>\n    </tr>\n    <tr>\n      <th>12</th>\n      <td>tested_negative</td>\n      <td>gender_male</td>\n      <td>0.579439</td>\n    </tr>\n    <tr>\n      <th>13</th>\n      <td>tested_negative</td>\n      <td>gender_female</td>\n      <td>0.600000</td>\n    </tr>\n    <tr>\n      <th>14</th>\n      <td>tested_negative</td>\n      <td>how_long</td>\n      <td>0.000000</td>\n    </tr>\n    <tr>\n      <th>15</th>\n      <td>tested_negative</td>\n      <td>name</td>\n      <td>0.588235</td>\n    </tr>\n    <tr>\n      <th>16</th>\n      <td>tested_negative</td>\n      <td>relation</td>\n      <td>0.571429</td>\n    </tr>\n    <tr>\n      <th>17</th>\n      <td>tested_negative</td>\n      <td>when</td>\n      <td>0.000000</td>\n    </tr>\n    <tr>\n      <th>18</th>\n      <td>tested_negative</td>\n      <td>where</td>\n      <td>0.325581</td>\n    </tr>\n  </tbody>\n</table>\n</div>"
     },
     "execution_count": 16,
     "metadata": {},
     "output_type": "execute_result"
    }
   ],
   "source": [
    "df[df['Event'] ==event_list[1]][['Event','Sub-task','F1']]"
   ],
   "metadata": {
    "collapsed": false,
    "pycharm": {
     "name": "#%%\n"
    }
   }
  },
  {
   "cell_type": "code",
   "execution_count": 23,
   "outputs": [
    {
     "data": {
      "text/plain": "0.5472146383963782"
     },
     "execution_count": 23,
     "metadata": {},
     "output_type": "execute_result"
    }
   ],
   "source": [
    "df[df['F1']>0]['F1'].mean()\n"
   ],
   "metadata": {
    "collapsed": false,
    "pycharm": {
     "name": "#%%\n"
    }
   }
  },
  {
   "cell_type": "code",
   "execution_count": 19,
   "outputs": [
    {
     "data": {
      "text/plain": "27"
     },
     "execution_count": 19,
     "metadata": {},
     "output_type": "execute_result"
    }
   ],
   "source": [
    "10 + 5 + 4 + 5 + 3\n"
   ],
   "metadata": {
    "collapsed": false,
    "pycharm": {
     "name": "#%%\n"
    }
   }
  },
  {
   "cell_type": "code",
   "execution_count": null,
   "outputs": [],
   "source": [
    "\n"
   ],
   "metadata": {
    "collapsed": false,
    "pycharm": {
     "name": "#%%\n"
    }
   }
  }
 ],
 "metadata": {
  "kernelspec": {
   "display_name": "Python 3",
   "language": "python",
   "name": "python3"
  },
  "language_info": {
   "codemirror_mode": {
    "name": "ipython",
    "version": 2
   },
   "file_extension": ".py",
   "mimetype": "text/x-python",
   "name": "python",
   "nbconvert_exporter": "python",
   "pygments_lexer": "ipython2",
   "version": "2.7.6"
  }
 },
 "nbformat": 4,
 "nbformat_minor": 0
}